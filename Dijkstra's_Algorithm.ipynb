{
  "nbformat": 4,
  "nbformat_minor": 0,
  "metadata": {
    "colab": {
      "provenance": [],
      "collapsed_sections": []
    },
    "kernelspec": {
      "name": "python3",
      "display_name": "Python 3"
    },
    "language_info": {
      "name": "python"
    }
  },
  "cells": [
    {
      "cell_type": "code",
      "execution_count": null,
      "metadata": {
        "colab": {
          "base_uri": "https://localhost:8080/"
        },
        "id": "8E1R2uQogOlt",
        "outputId": "3e42ba63-81af-452d-a115-ef082b592ee2"
      },
      "outputs": [
        {
          "output_type": "stream",
          "name": "stdout",
          "text": [
            "Node \t Distance from Source\n",
            "0 \t\t 0\n",
            "1 \t\t 7\n",
            "2 \t\t 3\n",
            "3 \t\t 9\n",
            "4 \t\t 5\n"
          ]
        }
      ],
      "source": [
        "import math\n",
        " \n",
        "class Graph():\n",
        "    def __init__(self, vertices):\n",
        "        self.V = vertices\n",
        "        self.graph = [[0 for column in range(vertices)]\n",
        "                    for row in range(vertices)]\n",
        " \n",
        "    def printSolution(self, dist):\n",
        "        print(\"Node \\t Distance from Source\")\n",
        "        for node in range(self.V):\n",
        "            print(node, \"\\t\\t\", dist[node])\n",
        " \n",
        "    def minDistance(self, dist, S):\n",
        " \n",
        "        min = math.inf\n",
        " \n",
        "        for v in range(self.V):\n",
        "            if dist[v] < min and S[v] == False:\n",
        "                min = dist[v]\n",
        "                min_index = v\n",
        " \n",
        "        return min_index\n",
        " \n",
        "    def dijkstra(self, src):\n",
        " \n",
        "        dist = [math.inf] * self.V\n",
        "        dist[src] = 0\n",
        " \n",
        "        S = [False] * self.V\n",
        " \n",
        "        while any(S[x] == False for x in range(self.V)):\n",
        "            u = self.minDistance(dist, S)\n",
        "            S[u] = True\n",
        " \n",
        "            for v in range(self.V):\n",
        "                if (self.graph[u][v] > 0 and\n",
        "                S[v] == False and\n",
        "                dist[v] > dist[u] + self.graph[u][v]):\n",
        "                    dist[v] = dist[u] + self.graph[u][v]\n",
        " \n",
        "        self.printSolution(dist)\n",
        " \n",
        "g = Graph(5)\n",
        "g.graph = [[0, 10, 3, 0, 0],\n",
        "        [0, 0, 1, 2, 0],\n",
        "        [0, 4, 0, 8, 2],\n",
        "        [0, 0, 0, 0, 7],\n",
        "        [0, 0, 0, 9, 0]\n",
        "        ]\n",
        " \n",
        "g.dijkstra(0)"
      ]
    }
  ]
}