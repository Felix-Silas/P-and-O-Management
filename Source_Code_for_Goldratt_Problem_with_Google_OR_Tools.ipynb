{
  "nbformat": 4,
  "nbformat_minor": 0,
  "metadata": {
    "colab": {
      "name": "Source_Code_for_Goldratt_Problem_with_Google_OR_Tools.ipynb",
      "provenance": [],
      "collapsed_sections": []
    },
    "kernelspec": {
      "name": "python3",
      "display_name": "Python 3"
    },
    "language_info": {
      "name": "python"
    }
  },
  "cells": [
    {
      "cell_type": "code",
      "execution_count": 1,
      "metadata": {
        "id": "rSx-dLm-c9uC",
        "colab": {
          "base_uri": "https://localhost:8080/",
          "height": 541
        },
        "outputId": "c57b7916-b995-4334-9ba8-44f75a0df673"
      },
      "outputs": [
        {
          "output_type": "stream",
          "name": "stdout",
          "text": [
            "Collecting ortools\n",
            "  Downloading ortools-9.3.10497-cp37-cp37m-manylinux_2_17_x86_64.manylinux2014_x86_64.whl (15.5 MB)\n",
            "\u001b[K     |████████████████████████████████| 15.5 MB 4.1 MB/s \n",
            "\u001b[?25hRequirement already satisfied: numpy>=1.13.3 in /usr/local/lib/python3.7/dist-packages (from ortools) (1.21.5)\n",
            "Collecting protobuf>=3.19.4\n",
            "  Downloading protobuf-3.19.4-cp37-cp37m-manylinux_2_17_x86_64.manylinux2014_x86_64.whl (1.1 MB)\n",
            "\u001b[K     |████████████████████████████████| 1.1 MB 43.9 MB/s \n",
            "\u001b[?25hRequirement already satisfied: absl-py>=0.13 in /usr/local/lib/python3.7/dist-packages (from ortools) (1.0.0)\n",
            "Requirement already satisfied: six in /usr/local/lib/python3.7/dist-packages (from absl-py>=0.13->ortools) (1.15.0)\n",
            "Installing collected packages: protobuf, ortools\n",
            "  Attempting uninstall: protobuf\n",
            "    Found existing installation: protobuf 3.17.3\n",
            "    Uninstalling protobuf-3.17.3:\n",
            "      Successfully uninstalled protobuf-3.17.3\n",
            "\u001b[31mERROR: pip's dependency resolver does not currently take into account all the packages that are installed. This behaviour is the source of the following dependency conflicts.\n",
            "tensorflow 2.8.0 requires tf-estimator-nightly==2.8.0.dev2021122109, which is not installed.\u001b[0m\n",
            "Successfully installed ortools-9.3.10497 protobuf-3.19.4\n"
          ]
        },
        {
          "output_type": "display_data",
          "data": {
            "application/vnd.colab-display-data+json": {
              "pip_warning": {
                "packages": [
                  "google"
                ]
              }
            }
          },
          "metadata": {}
        },
        {
          "output_type": "stream",
          "name": "stdout",
          "text": [
            "Dongguk University ISE4002 Modified Goldratt Problem - Note that it is a LP version of the problem, so SHOULD NOT BE USED for your homework.\n",
            "Solution:\n",
            "Objective value = 538.4615384615381\n",
            "x = 73.84615384615384\n",
            "y = 36.92307692307692\n"
          ]
        }
      ],
      "source": [
        "!pip install ortools\n",
        " \n",
        " # import the required libraries\n",
        "from ortools.linear_solver import pywraplp \n",
        "\n",
        " \n",
        "def main():\n",
        "    print('Dongguk University ISE4002 Modified Goldratt Problem - Note that it is a LP version of the problem, so SHOULD NOT BE USED for your homework.')\n",
        " \n",
        "    # Create the linear solver with the GLOP backend.\n",
        "    solver = pywraplp.Solver.CreateSolver('GLOP')      # solver 호출 , 문제 해결의 키포인트가 여기?\n",
        " \n",
        "    # Create the variables x_p and x_q.\n",
        "    p = solver.NumVar(0, 100, 'xp')  # 여기 부분을 바꿔야 한다 integer 변수로\n",
        "    q = solver.NumVar(0, 50, 'xq')   # 여기 부분을 바꿔야 한다 integer 변수로\n",
        " \n",
        "    # Create a linear constraint for Machine A\n",
        "    ct_a = solver.Constraint(0, 2400, 'TimeOnMachineA')\n",
        "    ct_a.SetCoefficient(p, 15)\n",
        "    ct_a.SetCoefficient(q, 10)\n",
        " \n",
        "    # Create a linear constraint for Machine B\n",
        "    ct_b = solver.Constraint(0, 2400, 'TimeOnMachineB')\n",
        "    ct_b.SetCoefficient(p, 15)\n",
        "    ct_b.SetCoefficient(q, 35)\n",
        " \n",
        "    # Create a linear constraint for Machine C\n",
        "    ct_c = solver.Constraint(0, 2400, 'TimeOnMachineC')\n",
        "    ct_c.SetCoefficient(p, 15)\n",
        "    ct_c.SetCoefficient(q, 5)\n",
        " \n",
        "    # Create a linear constraint for Machine D\n",
        "    ct_d = solver.Constraint(0, 2400, 'TimeOnMachineD')\n",
        "    ct_d.SetCoefficient(p, 25)\n",
        "    ct_d.SetCoefficient(q, 15)\n",
        " \n",
        "    # Create the objective function, 3 * x + y.\n",
        "    objective = solver.Objective()\n",
        "    objective.SetCoefficient(p, (90-45))\n",
        "    objective.SetCoefficient(q, (100-40))\n",
        "    objective.SetMaximization()\n",
        " \n",
        "    solver.Solve()\n",
        " \n",
        "    print('Solution:')\n",
        "    print('Objective value =', objective.Value()-5000)\n",
        "    print('x =', p.solution_value())\n",
        "    print('y =', q.solution_value())\n",
        " \n",
        " \n",
        "if __name__ == '__main__':\n",
        "    main()"
      ]
    }
  ]
}