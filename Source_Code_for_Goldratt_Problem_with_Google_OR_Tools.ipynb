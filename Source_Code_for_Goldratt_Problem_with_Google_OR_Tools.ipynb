{
  "nbformat": 4,
  "nbformat_minor": 0,
  "metadata": {
    "colab": {
      "name": " Source Code for Goldratt Problem with Google OR-Tools.ipynb",
      "provenance": [],
      "collapsed_sections": []
    },
    "kernelspec": {
      "name": "python3",
      "display_name": "Python 3"
    },
    "language_info": {
      "name": "python"
    }
  },
  "cells": [
    {
      "cell_type": "code",
      "execution_count": null,
      "metadata": {
        "id": "rSx-dLm-c9uC"
      },
      "outputs": [],
      "source": [
        "!pip install ortools\n",
        " \n",
        " # import the required libraries\n",
        "from ortools.linear_solver import pywraplp \n",
        " \n",
        " \n",
        "def main():\n",
        "    print('Dongguk University ISE4002 Modified Goldratt Problem - Note that it is a LP version of the problem, so SHOULD NOT BE USED for your homework.')\n",
        " \n",
        "    # Create the linear solver with the GLOP backend.\n",
        "    solver = pywraplp.Solver.CreateSolver('GLOP')\n",
        " \n",
        "    # Create the variables x_p and x_q.\n",
        "    p = solver.NumVar(0, 100, 'xp')\n",
        "    q = solver.NumVar(0, 50, 'xq')\n",
        " \n",
        "    # Create a linear constraint for Machine A\n",
        "    ct_a = solver.Constraint(0, 2400, 'TimeOnMachineA')\n",
        "    ct_a.SetCoefficient(p, 15)\n",
        "    ct_a.SetCoefficient(q, 10)\n",
        " \n",
        "    # Create a linear constraint for Machine B\n",
        "    ct_b = solver.Constraint(0, 2400, 'TimeOnMachineB')\n",
        "    ct_b.SetCoefficient(p, 15)\n",
        "    ct_b.SetCoefficient(q, 35)\n",
        " \n",
        "    # Create a linear constraint for Machine C\n",
        "    ct_c = solver.Constraint(0, 2400, 'TimeOnMachineC')\n",
        "    ct_c.SetCoefficient(p, 15)\n",
        "    ct_c.SetCoefficient(q, 5)\n",
        " \n",
        "    # Create a linear constraint for Machine D\n",
        "    ct_d = solver.Constraint(0, 2400, 'TimeOnMachineD')\n",
        "    ct_d.SetCoefficient(p, 25)\n",
        "    ct_d.SetCoefficient(q, 15)\n",
        " \n",
        "    # Create the objective function, 3 * x + y.\n",
        "    objective = solver.Objective()\n",
        "    objective.SetCoefficient(p, (90-45))\n",
        "    objective.SetCoefficient(q, (100-40))\n",
        "    objective.SetMaximization()\n",
        " \n",
        "    solver.Solve()\n",
        " \n",
        "    print('Solution:')\n",
        "    print('Objective value =', objective.Value()-5000)\n",
        "    print('x =', p.solution_value())\n",
        "    print('y =', q.solution_value())\n",
        " \n",
        " \n",
        "if __name__ == '__main__':\n",
        "    main()"
      ]
    }
  ]
}