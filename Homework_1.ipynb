{
  "nbformat": 4,
  "nbformat_minor": 0,
  "metadata": {
    "colab": {
      "name": "Homework#1.ipynb",
      "provenance": [],
      "collapsed_sections": []
    },
    "kernelspec": {
      "name": "python3",
      "display_name": "Python 3"
    },
    "language_info": {
      "name": "python"
    }
  },
  "cells": [
    {
      "cell_type": "code",
      "execution_count": 3,
      "metadata": {
        "colab": {
          "base_uri": "https://localhost:8080/"
        },
        "id": "vppyAPRor-i0",
        "outputId": "bed62eae-2a33-49df-8368-eb03a7d6d4c6"
      },
      "outputs": [
        {
          "output_type": "stream",
          "name": "stdout",
          "text": [
            "Requirement already satisfied: ortools in /usr/local/lib/python3.7/dist-packages (9.3.10497)\n",
            "Requirement already satisfied: protobuf>=3.19.4 in /usr/local/lib/python3.7/dist-packages (from ortools) (3.19.4)\n",
            "Requirement already satisfied: numpy>=1.13.3 in /usr/local/lib/python3.7/dist-packages (from ortools) (1.21.5)\n",
            "Requirement already satisfied: absl-py>=0.13 in /usr/local/lib/python3.7/dist-packages (from ortools) (1.0.0)\n",
            "Requirement already satisfied: six in /usr/local/lib/python3.7/dist-packages (from absl-py>=0.13->ortools) (1.15.0)\n",
            "Number of variables = 2\n",
            "Number of constraints = 5\n",
            "Solution:\n",
            "Objective value = 1880.0\n",
            "x = 40.0\n",
            "y = 60.0\n"
          ]
        }
      ],
      "source": [
        "!pip install ortools\n",
        " \n",
        "from ortools.linear_solver import pywraplp\n",
        " \n",
        "solver = pywraplp.Solver.CreateSolver('GLOP')\n",
        " \n",
        "x_1 = solver.NumVar(0, solver.infinity(), 'x_1')\n",
        "x_2 = solver.NumVar(0, solver.infinity(), 'x_2')\n",
        "print('Number of variables =', solver.NumVariables())\n",
        " \n",
        "solver.Add(5 * x_1 <= 2400.0)\n",
        "solver.Add(10 * x_1 + 10 * x_2 <= 2400.0)\n",
        "solver.Add(7 * x_1 + 7 * x_2 <= 2400.0)\n",
        "solver.Add(x_1  <= 40.0)\n",
        "solver.Add(x_2  <= 60.0)\n",
        "print('Number of constraints =', solver.NumConstraints())\n",
        " \n",
        "solver.Maximize(20 * x_1 + 18 * x_2)\n",
        " \n",
        "status = solver.Solve()\n",
        " \n",
        "if status == pywraplp.Solver.OPTIMAL:\n",
        "    print('Solution:')\n",
        "    print('Objective value =', solver.Objective().Value())\n",
        "    print('x =', x_1.solution_value())\n",
        "    print('y =', x_2.solution_value())\n",
        "else:\n",
        "    print('The problem does not have an optimal solution.')"
      ]
    }
  ]
}