{
  "nbformat": 4,
  "nbformat_minor": 0,
  "metadata": {
    "colab": {
      "name": " Example Code (2) for Google OR-Tools.ipynb",
      "provenance": [],
      "collapsed_sections": []
    },
    "kernelspec": {
      "name": "python3",
      "display_name": "Python 3"
    },
    "language_info": {
      "name": "python"
    }
  },
  "cells": [
    {
      "cell_type": "code",
      "execution_count": null,
      "metadata": {
        "id": "V9BDn9MqN92l"
      },
      "outputs": [],
      "source": [
        "!pip install ortools\n",
        " \n",
        "from ortools.linear_solver import pywraplp\n",
        " \n",
        "solver = pywraplp.Solver.CreateSolver('GLOP')\n",
        " \n",
        "x_1 = solver.NumVar(0, solver.infinity(), 'x_1')\n",
        "x_2 = solver.NumVar(0, solver.infinity(), 'x_2')\n",
        "print('Number of variables =', solver.NumVariables())\n",
        " \n",
        "solver.Add(x_1 + x_2 >= 800.0)\n",
        "solver.Add(0.21 * x_1 - 0.3 * x_2 <= 0.0)\n",
        "solver.Add(0.03 * x_1 - 0.01 * x_2 >= 0.0)\n",
        "print('Number of constraints =', solver.NumConstraints())\n",
        " \n",
        "solver.Minimize(0.3 * x_1 + 0.9 * x_2)\n",
        " \n",
        "status = solver.Solve()\n",
        " \n",
        "if status == pywraplp.Solver.OPTIMAL:\n",
        "    print('Solution:')\n",
        "    print('Objective value =', solver.Objective().Value())\n",
        "    print('x =', x_1.solution_value())\n",
        "    print('y =', x_2.solution_value())\n",
        "else:\n",
        "    print('The problem does not have an optimal solution.')"
      ]
    }
  ]
}