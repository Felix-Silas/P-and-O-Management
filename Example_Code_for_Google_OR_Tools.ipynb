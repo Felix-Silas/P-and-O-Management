{
  "nbformat": 4,
  "nbformat_minor": 0,
  "metadata": {
    "colab": {
      "name": " Example Code for Google OR-Tools.ipynb",
      "provenance": []
    },
    "kernelspec": {
      "name": "python3",
      "display_name": "Python 3"
    },
    "language_info": {
      "name": "python"
    }
  },
  "cells": [
    {
      "cell_type": "code",
      "execution_count": null,
      "metadata": {
        "colab": {
          "base_uri": "https://localhost:8080/",
          "height": 531
        },
        "id": "GlPcYYdhdXXv",
        "outputId": "2f8ea97d-8366-46e8-8151-dcf3785aacfe"
      },
      "outputs": [
        {
          "output_type": "stream",
          "name": "stdout",
          "text": [
            "Collecting ortools\n",
            "  Downloading ortools-9.3.10497-cp37-cp37m-manylinux_2_17_x86_64.manylinux2014_x86_64.whl (15.5 MB)\n",
            "\u001b[K     |████████████████████████████████| 15.5 MB 407 kB/s \n",
            "\u001b[?25hRequirement already satisfied: numpy>=1.13.3 in /usr/local/lib/python3.7/dist-packages (from ortools) (1.21.5)\n",
            "Requirement already satisfied: absl-py>=0.13 in /usr/local/lib/python3.7/dist-packages (from ortools) (1.0.0)\n",
            "Collecting protobuf>=3.19.4\n",
            "  Downloading protobuf-3.19.4-cp37-cp37m-manylinux_2_17_x86_64.manylinux2014_x86_64.whl (1.1 MB)\n",
            "\u001b[K     |████████████████████████████████| 1.1 MB 35.6 MB/s \n",
            "\u001b[?25hRequirement already satisfied: six in /usr/local/lib/python3.7/dist-packages (from absl-py>=0.13->ortools) (1.15.0)\n",
            "Installing collected packages: protobuf, ortools\n",
            "  Attempting uninstall: protobuf\n",
            "    Found existing installation: protobuf 3.17.3\n",
            "    Uninstalling protobuf-3.17.3:\n",
            "      Successfully uninstalled protobuf-3.17.3\n",
            "\u001b[31mERROR: pip's dependency resolver does not currently take into account all the packages that are installed. This behaviour is the source of the following dependency conflicts.\n",
            "tensorflow 2.8.0 requires tf-estimator-nightly==2.8.0.dev2021122109, which is not installed.\u001b[0m\n",
            "Successfully installed ortools-9.3.10497 protobuf-3.19.4\n"
          ]
        },
        {
          "output_type": "display_data",
          "data": {
            "application/vnd.colab-display-data+json": {
              "pip_warning": {
                "packages": [
                  "google"
                ]
              }
            }
          },
          "metadata": {}
        },
        {
          "output_type": "stream",
          "name": "stdout",
          "text": [
            "Number of variables = 2\n",
            "Number of constraints = 1\n",
            "Solution:\n",
            "Objective value = 4.0\n",
            "x = 1.0\n",
            "y = 1.0\n"
          ]
        }
      ],
      "source": [
        "# Maximize 3x + y\n",
        "# s.t 0 <= x <= 1\n",
        "#     0 <= y <= 2\n",
        "#     x + y <= 2\n",
        "# 본 수업 때 돌린 코드\n",
        "\n",
        "\n",
        "\n",
        "!pip install ortools\n",
        " \n",
        "from ortools.linear_solver import pywraplp\n",
        " \n",
        " \n",
        "def main():\n",
        "    # Create the linear solver with the GLOP backend.\n",
        "    solver = pywraplp.Solver.CreateSolver('GLOP')\n",
        " \n",
        "    # Create the variables x and y.\n",
        "    x = solver.NumVar(0, 1, 'x')\n",
        "    y = solver.NumVar(0, 2, 'y')\n",
        " \n",
        "    print('Number of variables =', solver.NumVariables())\n",
        " \n",
        "    # Create a linear constraint, 0 <= x + y <= 2.\n",
        "    ct = solver.Constraint(0, 2, 'ct')\n",
        "    ct.SetCoefficient(x, 1)\n",
        "    ct.SetCoefficient(y, 1)\n",
        " \n",
        "    print('Number of constraints =', solver.NumConstraints())\n",
        " \n",
        "    # Create the objective function, 3 * x + y.\n",
        "    objective = solver.Objective()\n",
        "    objective.SetCoefficient(x, 3)\n",
        "    objective.SetCoefficient(y, 1)\n",
        "    objective.SetMaximization()\n",
        " \n",
        "    solver.Solve()\n",
        " \n",
        "    print('Solution:')\n",
        "    print('Objective value =', objective.Value())\n",
        "    print('x =', x.solution_value())\n",
        "    print('y =', y.solution_value())\n",
        " \n",
        " \n",
        "if __name__ == '__main__':\n",
        "    main()"
      ]
    }
  ]
}