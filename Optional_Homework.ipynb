{
  "nbformat": 4,
  "nbformat_minor": 0,
  "metadata": {
    "colab": {
      "name": "Optional Homework.ipynb",
      "provenance": [],
      "collapsed_sections": []
    },
    "kernelspec": {
      "name": "python3",
      "display_name": "Python 3"
    },
    "language_info": {
      "name": "python"
    }
  },
  "cells": [
    {
      "cell_type": "code",
      "execution_count": 8,
      "metadata": {
        "colab": {
          "base_uri": "https://localhost:8080/"
        },
        "id": "M1uWM3UOhTkq",
        "outputId": "cf45d8ed-4e37-4d8e-d08a-5b53e96916d7"
      },
      "outputs": [
        {
          "output_type": "stream",
          "name": "stdout",
          "text": [
            "Requirement already satisfied: ortools in /usr/local/lib/python3.7/dist-packages (9.3.10497)\n",
            "Requirement already satisfied: numpy>=1.13.3 in /usr/local/lib/python3.7/dist-packages (from ortools) (1.21.5)\n",
            "Requirement already satisfied: protobuf>=3.19.4 in /usr/local/lib/python3.7/dist-packages (from ortools) (3.19.4)\n",
            "Requirement already satisfied: absl-py>=0.13 in /usr/local/lib/python3.7/dist-packages (from ortools) (1.0.0)\n",
            "Requirement already satisfied: six in /usr/local/lib/python3.7/dist-packages (from absl-py>=0.13->ortools) (1.15.0)\n",
            "Dongguk University ISE4002 Modified Goldratt Problem - Note that it is a LP version of the problem, so SHOULD NOT BE USED for your homework.\n",
            "Solution:\n",
            "Objective value = 1300.0\n",
            "x = 100.0\n",
            "y = 30.0\n"
          ]
        }
      ],
      "source": [
        "!pip install ortools\n",
        " \n",
        " # import the required libraries\n",
        "from ortools.linear_solver import pywraplp \n",
        "\n",
        " \n",
        "def main():\n",
        "    print('Dongguk University ISE4002 Modified Goldratt Problem - Note that it is a LP version of the problem, so SHOULD NOT BE USED for your homework.')\n",
        " \n",
        "    # Create the linear solver with the GLOP backend.\n",
        "    solver = pywraplp.Solver.CreateSolver('SCIP')      \n",
        "\n",
        "\n",
        "    # Create the variables x_p and x_q.\n",
        "    p = solver.IntVar(0, 100, 'p')  \n",
        "    q = solver.IntVar(0, 50, 'q')   \n",
        " \n",
        "\n",
        "    solver.Add(15 * p + 10 * q <= 2400)\n",
        "    solver.Add(15 * p + 30 * q <= 2400)\n",
        "    solver.Add(15 * p + 5 * q <= 2400)\n",
        "    solver.Add(15 * p + 5 * q <= 2400)\n",
        "\n",
        "    \n",
        "    solver.Maximize((90-45) * p + (100-40) * q )\n",
        "    status = solver.Solve()\n",
        "    if status  == pywraplp.Solver.OPTIMAL:\n",
        "        print('Solution:')\n",
        "        print('Objective value =', solver.Objective().Value()-5000)\n",
        "        print('x =', p.solution_value())\n",
        "        print('y =', q.solution_value())\n",
        "    else:\n",
        "        print('Optimal Solution Cannot be Found')\n",
        " \n",
        "if __name__ == '__main__':\n",
        "    main()"
      ]
    }
  ]
}